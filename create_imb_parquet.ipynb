{
  "cells": [
    {
      "cell_type": "markdown",
      "metadata": {
        "id": "view-in-github",
        "colab_type": "text"
      },
      "source": [
        "<a href=\"https://colab.research.google.com/github/nicolasbose/ReNOMO/blob/main/create_imb_parquet.ipynb\" target=\"_parent\"><img src=\"https://colab.research.google.com/assets/colab-badge.svg\" alt=\"Open In Colab\"/></a>"
      ]
    },
    {
      "cell_type": "code",
      "execution_count": 4,
      "metadata": {
        "id": "qf7V4ydPkD3C"
      },
      "outputs": [],
      "source": [
        "import pandas as pd\n",
        "import glob\n",
        "import numpy as np"
      ]
    },
    {
      "cell_type": "code",
      "source": [
        "# Abrindo o Drive do Google\n",
        "from google.colab import drive\n",
        "drive.mount('/content/drive')"
      ],
      "metadata": {
        "colab": {
          "base_uri": "https://localhost:8080/"
        },
        "id": "i_Cz8x_zBxJC",
        "outputId": "60b327e5-8ab9-400d-ee06-34388d59fa09"
      },
      "execution_count": 44,
      "outputs": [
        {
          "output_type": "stream",
          "name": "stdout",
          "text": [
            "Drive already mounted at /content/drive; to attempt to forcibly remount, call drive.mount(\"/content/drive\", force_remount=True).\n"
          ]
        }
      ]
    },
    {
      "cell_type": "code",
      "execution_count": 36,
      "metadata": {
        "id": "0-sVZlxKkOh2"
      },
      "outputs": [],
      "source": [
        "## Selecionando todos os arquivos txt do maregrafo de Imbituba\n",
        "files = sorted(glob.glob('/content/imb/IMB*'))\n"
      ]
    },
    {
      "cell_type": "code",
      "execution_count": 138,
      "metadata": {
        "id": "9Cc1XLioku44"
      },
      "outputs": [],
      "source": [
        "## Load Data\n",
        "df = pd.concat([pd.read_csv(file, sep=';') for file in files])\n",
        "df.reset_index(inplace = True)"
      ]
    },
    {
      "cell_type": "code",
      "execution_count": 140,
      "metadata": {
        "id": "MBzMLJUOkadc"
      },
      "outputs": [],
      "source": [
        "### Convert string to datetime\n",
        "df['datetime'] = df['DT_LEITURA'] + ' ' + df['HR_LEITURA']\n",
        "\n",
        "from datetime import datetime\n",
        "\n",
        "\n",
        "datetime_object = []\n",
        "\n",
        "for i in range(len(df)):\n",
        "  datetime_object.append(datetime.strptime(df['datetime'][i], '%d/%m/%Y %H:%M:%S'))\n",
        "\n",
        "# Replace comma to dots and remove '######'\n",
        "df['RAD'] = df['RAD'].str.replace(',', '.')\n",
        "df = df.apply(pd.to_numeric, errors='coerce')\n",
        "df['RAD'] = df['RAD'].astype(float)\n",
        "\n",
        "# Transforme time to datetime\n",
        "df['datetime'] = pd.to_datetime(datetime_object)"
      ]
    },
    {
      "cell_type": "code",
      "source": [
        "# Remove colunms\n",
        "df.drop(['index', 'DT_LEITURA', 'HR_LEITURA'], axis=1, inplace=True)"
      ],
      "metadata": {
        "id": "4m4CZmHC-HBJ"
      },
      "execution_count": 147,
      "outputs": []
    },
    {
      "cell_type": "code",
      "source": [
        "# Set datetime to index\n",
        "df.index=df['datetime']"
      ],
      "metadata": {
        "id": "x_l5ri6Y-c7Y"
      },
      "execution_count": 150,
      "outputs": []
    },
    {
      "cell_type": "code",
      "source": [
        "# Save file to parquet\n",
        "df.to_parquet('imb_2023_mare.parquet')"
      ],
      "metadata": {
        "id": "jjb0-Vx5-pnS"
      },
      "execution_count": 153,
      "outputs": []
    },
    {
      "cell_type": "code",
      "source": [
        "df.RAD.plot()"
      ],
      "metadata": {
        "colab": {
          "base_uri": "https://localhost:8080/",
          "height": 450
        },
        "id": "2wnRrcAX-zbz",
        "outputId": "05a654a9-2a2d-4f3b-f968-6a0c3d4ef1a2"
      },
      "execution_count": 155,
      "outputs": [
        {
          "output_type": "execute_result",
          "data": {
            "text/plain": [
              "<Axes: xlabel='datetime'>"
            ]
          },
          "metadata": {},
          "execution_count": 155
        },
        {
          "output_type": "display_data",
          "data": {
            "text/plain": [
              "<Figure size 640x480 with 1 Axes>"
            ],
            "image/png": "[encoded data removed]"
          },
          "metadata": {}
        }
      ]
    }
  ],
  "metadata": {
    "colab": {
      "provenance": [],
      "authorship_tag": "ABX9TyPxiHlNjzHFo64TUhu1EBDx",
      "include_colab_link": true
    },
    "kernelspec": {
      "display_name": "Python 3",
      "name": "python3"
    },
    "language_info": {
      "name": "python"
    }
  },
  "nbformat": 4,
  "nbformat_minor": 0
}